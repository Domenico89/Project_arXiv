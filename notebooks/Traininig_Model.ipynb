{
 "cells": [
  {
   "cell_type": "markdown",
   "metadata": {},
   "source": [
    "# Training the model and evaluation"
   ]
  },
  {
   "cell_type": "markdown",
   "metadata": {},
   "source": [
    "In this notebook we will explain how the model was trained and how its evaluation could be performed. The code contained here is essentially the same that can be found in train_model.py"
   ]
  },
  {
   "cell_type": "code",
   "execution_count": 1,
   "metadata": {},
   "outputs": [],
   "source": [
    "import pickle\n",
    "import os\n",
    "import re\n",
    "import numpy as np\n",
    "import pandas as pd\n",
    "from random import shuffle\n",
    "#utils module can be found in src folder\n",
    "from utils import Config, strip_extension, read_clean, get_y\n",
    "\n",
    "from sklearn.feature_extraction.text import TfidfVectorizer\n",
    "from sklearn.linear_model import LogisticRegression\n",
    "from sklearn.model_selection import train_test_split\n",
    "from sklearn.metrics import accuracy_score, precision_score, recall_score \n",
    "\n",
    "import matplotlib.pyplot as plt\n",
    "import multiprocessing\n",
    "\n",
    "n_jobs=multiprocessing.cpu_count()"
   ]
  },
  {
   "cell_type": "markdown",
   "metadata": {},
   "source": [
    "Before training the model let's see what an article looks like"
   ]
  },
  {
   "cell_type": "code",
   "execution_count": 3,
   "metadata": {
    "scrolled": true
   },
   "outputs": [
    {
     "name": "stdout",
     "output_type": "stream",
     "text": [
      "EUROPEAN ORGANISATION FOR NUCLEAR RESEARCH (CERN)\n",
      "\n",
      "arXiv:1402.7029v3 [hep-ex] 6 May 2014\n",
      "\n",
      "CERN-PH-EP-2014-019\n",
      "Submitted to: JHEP\n",
      "\n",
      "Search for direct production of charginos and neutralinos in\n",
      "events with three leptons and missing transverse momentum in\n",
      "√\n",
      "s = 8 TeV pp collisions with the ATLAS detector\n",
      "\n",
      "The ATLAS Collaboration\n",
      "\n",
      "Abstract\n",
      "A search for the direct production of charginos and neutralinos in final states with three leptons\n",
      "√\n",
      "and missing transverse momentum is presented. The analysis is based on 20.3 fb−1 of s = 8 TeV\n",
      "proton–proton collision data delivered by the Large Hadron Collider and recorded with the ATLAS\n",
      "detector. Observations are consistent with the Standard Model expectations and limits are set in Rparity-conserving phenomenological Minimal Supersymmetric Standard Models and in simplified supersymmetric models, significantly extending previous results. For simplified supersymmetric models\n",
      "±\n",
      "0\n",
      "of direct chargino (χ̃1 ) and next-to-lightest neutralino (χ̃2 ) production \n"
     ]
    }
   ],
   "source": [
    "txts = os.listdir(Config.txt_db)\n",
    "idxs=[strip_extension(txt) for txt in txts]\n",
    "\n",
    "with open(os.path.join(Config.txt_db,txts[0]),'r') as file:\n",
    "    article=file.read()\n",
    "print(article[:1000])"
   ]
  },
  {
   "cell_type": "markdown",
   "metadata": {},
   "source": [
    "As can be seen at the beginning of each article, arXiv.org places the title, the id and the class of the paper. Since we are trying to write an application that determines the class of an input article, it is reasonable to remove these information from the articles.  It is clear that we should remove the class as it might be possible that the model would pick up the classes and therefore classify the papers based on it. We remove the article name because there might be other articles referencing the paper, which might help classifying it, while the model is intended to be used for papers that would be completely new. \n",
    "\n",
    "This justifies the definition of function utils.read_clean(), that cleans the articles in the database before feeding them to the model"
   ]
  },
  {
   "cell_type": "code",
   "execution_count": 5,
   "metadata": {},
   "outputs": [
    {
     "name": "stdout",
     "output_type": "stream",
     "text": [
      "Training the TFIDF vectorizer.\n"
     ]
    },
    {
     "data": {
      "text/plain": [
       "TfidfVectorizer(analyzer='word', binary=False, decode_error='replace',\n",
       "                dtype=<class 'numpy.float64'>, encoding='utf-8',\n",
       "                input='content', lowercase=True, max_df=1.0, max_features=60000,\n",
       "                min_df=2, ngram_range=(1, 2), norm='l2', preprocessor=None,\n",
       "                smooth_idf=True, stop_words='english', strip_accents='unicode',\n",
       "                sublinear_tf=True,\n",
       "                token_pattern='(?u)\\\\b[a-zA-Z_][a-zA-Z0-9_]+\\\\b',\n",
       "                tokenizer=None, use_idf=True, vocabulary=None)"
      ]
     },
     "execution_count": 5,
     "metadata": {},
     "output_type": "execute_result"
    }
   ],
   "source": [
    "txts = os.listdir(Config.txt_db)\n",
    "idxs=[strip_extension(txt) for txt in txts]\n",
    "\n",
    "max_features=60000\n",
    "\n",
    "tfidf = TfidfVectorizer(input='content',encoding='utf-8', decode_error='replace', \n",
    "             strip_accents='unicode',lowercase=True, analyzer='word', stop_words='english', \n",
    "             token_pattern=r'(?u)\\b[a-zA-Z_][a-zA-Z0-9_]+\\b', ngram_range=(1, 2),\n",
    "             max_features = max_features, norm='l2', use_idf=True, smooth_idf=True, \n",
    "             sublinear_tf=True, max_df=1.0, min_df=2)\n",
    "\n",
    "#hard copy of the list of papers\n",
    "train_txt_paths = list(idxs) \n",
    "#shuffle the list of articles and crop it\n",
    "shuffle(train_txt_paths) \n",
    "max_train=70000\n",
    "train_txt_paths = train_txt_paths[:min(len(train_txt_paths), max_train)]\n",
    "#prepare the corpus\n",
    "train_corpus = read_clean(train_txt_paths)\n",
    "#fit the model\n",
    "print('Training the TFIDF vectorizer.')\n",
    "tfidf.fit(train_corpus)\n"
   ]
  },
  {
   "cell_type": "markdown",
   "metadata": {},
   "source": [
    "We can have a look at the features learned by the model look like and save the model"
   ]
  },
  {
   "cell_type": "code",
   "execution_count": 6,
   "metadata": {},
   "outputs": [
    {
     "name": "stdout",
     "output_type": "stream",
     "text": [
      "['slow', 'quantum', 'thermalization', 'body', 'revivals', 'mixed', 'phase', 'space', 'jan', 'ist', 'austria', 'campus', 'school', 'physics', 'astronomy', 'university', 'leeds', 'ls2', 'united', 'kingdom', 'department', 'theoretical', 'geneva', 'switzerland', 'dated', 'january', 'relaxation', 'systems', 'strongly', 'depend', 'initial', 'state', 'semiclassical', 'regions', 'chaotic', 'motion', 'coexist', 'regular', 'islands', 'recent', 'years', 'effort', 'understand', 'process', 'interacting', 'lack', 'obvious', 'limit', 'time', 'dependent', 'variational', 'principle', 'allows', 'systematically', 'derive', 'effective', 'classical', 'nonlinear', 'dynamical', 'projecting', 'unitary', 'dynamics', 'manifold', 'weakly', 'entangled', 'states', 'demonstrate', 'generally', 'possess', 'errors', 'small', 'leaves', 'footprint', 'exact', 'model', 'example', 'initialized', 'belonging', 'stable', 'periodic', 'orbit', 'surrounding', 'region', 'exhibits', 'persistent', 'proof', 'identify', 'new', 'types', 'scars', 'lead', 'long', 'oscillations', 'rydberg', 'atoms', 'dimensions', 'intriguingly', 'rise', 'robust', 'typically', 'hand', 'large', 'tilted', 'field', 'ising', 'initializing', 'leads', 'surprising', 'slowdown', 'work', 'establishes', 'method', 'identifying', 'anomalous', 'arbitrary', 'equations', 'allow', 'slowly', 'conditions', 'models', 'results', 'shed', 'light', 'link', 'chaos', 'pointing', 'possible', 'extensions', 'kolmogorov', 'arnold', 'moser', 'kam', 'theorem', 'introduction', 'technological', 'advances', 'synthetic', 'started', 'era', 'non', 'equilibrium', 'isolated', 'matter', 'experimentally', 'probed', 'intrinsic', 'occur', 'featureless', 'thermal', 'scrambling', 'information', 'avoid', 'extensive', 'number', 'integrals', 'localized', 'mbl', 'bethe', 'ansatz', 'integrable', 'host', 'trivial', 'studied', 'require', 'presence', 'quenched', 'disorder', 'fine', 'tuning', 'integrability', 'desirable', 'routes', 'extending', 'coherence', 'progress', 'tied', 'developing', 'complete', 'understanding', 'direction', 'studies', 'considered', 'typical', 'generated', 'applying', 'random', 'operators', 'circuit', 'allowed', 'obtain', 'entanglement', 'physical', 'observables', 'rate', 'experiments', 'revealed', 'significantly', 'complex', 'particular', 'certain']\n"
     ]
    }
   ],
   "source": [
    "items=tfidf.vocabulary_.items()\n",
    "print( [v for v in list(tfidf.vocabulary_.keys())[0:200]])"
   ]
  },
  {
   "cell_type": "code",
   "execution_count": 7,
   "metadata": {},
   "outputs": [],
   "source": [
    "if not os.path.exists(Config.model):\n",
    "    os.makedirs(Config.model)\n",
    "    \n",
    "with open(Config.tfidf,'wb') as file:\n",
    "    pickle.dump(tfidf,file)"
   ]
  },
  {
   "cell_type": "markdown",
   "metadata": {},
   "source": [
    "We can now start training the logistic regression model let's first check the composition of the dataset"
   ]
  },
  {
   "cell_type": "code",
   "execution_count": 8,
   "metadata": {},
   "outputs": [
    {
     "data": {
      "text/plain": [
       "math.SG            250\n",
       "astro-ph           250\n",
       "math.FA            250\n",
       "cs.CY              250\n",
       "stat.ML            250\n",
       "                  ... \n",
       "cs.LO              250\n",
       "math.NT            149\n",
       "physics.hist-ph    119\n",
       "math.KT            119\n",
       "cs.GL               83\n",
       "Name: Category, Length: 147, dtype: int64"
      ]
     },
     "execution_count": 8,
     "metadata": {},
     "output_type": "execute_result"
    }
   ],
   "source": [
    "with open('metadata_db','rb') as file:\n",
    "    metadata_db=pickle.load(file)\n",
    "\n",
    "articles=[]\n",
    "categories=[]\n",
    "\n",
    "for article,metadata in metadata_db.items():\n",
    "    articles.append(article)\n",
    "    categories.append(metadata['arxiv_primary_category']['term'])\n",
    "\n",
    "db=pd.DataFrame({'Article':articles,'Category':categories})\n",
    "    \n",
    "db['Category'].value_counts()"
   ]
  },
  {
   "cell_type": "markdown",
   "metadata": {},
   "source": [
    "The classes are not too skewed, we can therfore train the model without preoccupying too much of this problem "
   ]
  },
  {
   "cell_type": "code",
   "execution_count": 9,
   "metadata": {},
   "outputs": [],
   "source": [
    "txt_labels_train=[]\n",
    "\n",
    "for article in metadata_db.keys():\n",
    "    article_path=os.path.join(Config.txt_db,article+'.txt')\n",
    "    if os.path.isfile(article_path):\n",
    "        txt_labels_train.append(article)"
   ]
  },
  {
   "cell_type": "code",
   "execution_count": 10,
   "metadata": {},
   "outputs": [],
   "source": [
    "#The database might contain more articles than the ones in metadata_db, especially if arXivAPI.py was run several times\n",
    "\n",
    "corpus=read_clean(txt_labels_train)\n",
    "X = tfidf.transform(corpus)        \n",
    "y=get_y(txt_labels_train)\n",
    "\n",
    "X_train, X_test, y_train, y_test = train_test_split(X, y, test_size=0.30, random_state=42)     "
   ]
  },
  {
   "cell_type": "code",
   "execution_count": 11,
   "metadata": {},
   "outputs": [],
   "source": [
    "#Save vectorized articles togheter with their names and links for later use\n",
    "articles=[metadata_db[article]['links'][-1]['href'] for article in txt_labels_train]\n",
    "titles=[metadata_db[article]['title'].replace('\\n', '').replace('  ',' ') for article in txt_labels_train]\n",
    "dictionary={'X':X,'articles':np.array(txt_labels_train),'links':np.array(articles),'titles':np.array(titles)}\n",
    "with open(Config.vectorized_articles,'wb') as file:\n",
    "    pickle.dump(dictionary,file)"
   ]
  },
  {
   "cell_type": "markdown",
   "metadata": {},
   "source": [
    "Now that all our database it is vectorised, we can perform a classification, based on this vectorised form. As a first attemp we will use a simple logistic regression. In case the model would perform poorely we can take into consideration the use of more sophisticated solutions, like SVM or Random Forest Classifier.\n",
    "\n",
    "In order to have a first rough evaluation of the performances of the model we train it for different values of the regualrization parameter C."
   ]
  },
  {
   "cell_type": "code",
   "execution_count": 12,
   "metadata": {},
   "outputs": [
    {
     "name": "stdout",
     "output_type": "stream",
     "text": [
      "0.1\r"
     ]
    },
    {
     "name": "stderr",
     "output_type": "stream",
     "text": [
      "/home/ommim/anaconda3/lib/python3.7/site-packages/sklearn/metrics/_classification.py:1272: UndefinedMetricWarning: Precision is ill-defined and being set to 0.0 in labels with no predicted samples. Use `zero_division` parameter to control this behavior.\n",
      "  _warn_prf(average, modifier, msg_start, len(result))\n"
     ]
    },
    {
     "name": "stdout",
     "output_type": "stream",
     "text": [
      "10000\r"
     ]
    }
   ],
   "source": [
    "acc_train=[]\n",
    "acc_cval=[]\n",
    "prec_train=[]\n",
    "prec_cval=[]\n",
    "rec_train=[]\n",
    "rec_cval=[]\n",
    "C=[0.1,1,10,100,1000,10000]\n",
    "for c in C:\n",
    "    print(\"{}\\r\".format(c),end=\"\")\n",
    "    logr = LogisticRegression(n_jobs=n_jobs, C=c,random_state=42,solver='lbfgs',penalty='l2',multi_class='multinomial')\n",
    "    logr.fit(X_train, y_train)\n",
    "    \n",
    "    y_pred = logr.predict(X_train)\n",
    "    acc_train.append(accuracy_score(y_train,y_pred)*100)\n",
    "    prec_train.append(precision_score(y_train,y_pred,average='weighted')*100)\n",
    "    rec_train.append(recall_score(y_train,y_pred,average='weighted')*100)\n",
    "    \n",
    "    y_pred = logr.predict(X_test)\n",
    "    acc_cval.append(accuracy_score(y_test,y_pred)*100)\n",
    "    prec_cval.append(precision_score(y_test,y_pred,average='weighted')*100)\n",
    "    rec_cval.append(recall_score(y_test,y_pred,average='weighted')*100)"
   ]
  },
  {
   "cell_type": "markdown",
   "metadata": {},
   "source": [
    "We can now plot the validation curves for the Accuracy, Precision and Recall"
   ]
  },
  {
   "cell_type": "code",
   "execution_count": 13,
   "metadata": {},
   "outputs": [
    {
     "data": {
      "image/png": "[encoded data removed]",
      "text/plain": [
       "<Figure size 432x288 with 1 Axes>"
      ]
     },
     "metadata": {
      "needs_background": "light"
     },
     "output_type": "display_data"
    }
   ],
   "source": [
    "plt.plot(np.array(C),100-np.array(acc_train),color='r',label='training')\n",
    "plt.plot(np.array(C),100-np.array(acc_cval),color='b',label='cross validation')\n",
    "plt.title(label='Accuracy Error')\n",
    "plt.legend()\n",
    "plt.show()"
   ]
  },
  {
   "cell_type": "code",
   "execution_count": 14,
   "metadata": {},
   "outputs": [
    {
     "data": {
      "image/png": "[encoded data removed]",
      "text/plain": [
       "<Figure size 432x288 with 1 Axes>"
      ]
     },
     "metadata": {
      "needs_background": "light"
     },
     "output_type": "display_data"
    }
   ],
   "source": [
    "plt.plot(np.array(C),100-np.array(prec_train),color='r',label='training')\n",
    "plt.plot(np.array(C),100-np.array(prec_cval),color='b',label='cross validation')\n",
    "plt.title(label='Precision Error')\n",
    "plt.legend()\n",
    "plt.show()"
   ]
  },
  {
   "cell_type": "code",
   "execution_count": 15,
   "metadata": {},
   "outputs": [
    {
     "data": {
      "image/png": "[encoded data removed]",
      "text/plain": [
       "<Figure size 432x288 with 1 Axes>"
      ]
     },
     "metadata": {
      "needs_background": "light"
     },
     "output_type": "display_data"
    }
   ],
   "source": [
    "plt.plot(np.array(C),100-np.array(rec_train),color='r',label='training')\n",
    "plt.plot(np.array(C),100-np.array(rec_cval),color='b',label='cross validation')\n",
    "plt.title(label='Recall Error')\n",
    "plt.legend()\n",
    "plt.show()"
   ]
  },
  {
   "cell_type": "code",
   "execution_count": 16,
   "metadata": {},
   "outputs": [
    {
     "name": "stdout",
     "output_type": "stream",
     "text": [
      "[58.136519403538024, 66.51847735482079, 68.72279336852829, 69.20440863202741, 69.38038343984441, 68.93581550430675]\n",
      "[62.2480671772894, 66.83098805643054, 68.91370566649377, 69.2816746264161, 69.43035687955678, 68.90729851604877]\n",
      "[58.136519403538024, 66.51847735482079, 68.72279336852829, 69.20440863202741, 69.38038343984441, 68.93581550430675]\n"
     ]
    }
   ],
   "source": [
    "print(acc_cval)\n",
    "print(prec_cval)\n",
    "print(rec_cval)"
   ]
  },
  {
   "cell_type": "markdown",
   "metadata": {},
   "source": [
    "As can be seen the model seems to perform better around C=1000 ater this value the model will likeiy suffer of hig-variance (even though we need to go to really large values of C to see that happening). \n",
    "\n",
    "For the purpose of the model it is probably good to have an high precision as we are interested in getting as much actual positive predictions. The data show that there is not much difference between accuracy, recall and precision, this is probably due to the fact that we considered a dataset that is more or less uniform in terms of articles per class."
   ]
  },
  {
   "cell_type": "code",
   "execution_count": 17,
   "metadata": {},
   "outputs": [
    {
     "data": {
      "text/plain": [
       "LogisticRegression(C=1000, class_weight=None, dual=False, fit_intercept=True,\n",
       "                   intercept_scaling=1, l1_ratio=None, max_iter=100,\n",
       "                   multi_class='multinomial', n_jobs=8, penalty='l2',\n",
       "                   random_state=42, solver='lbfgs', tol=0.0001, verbose=0,\n",
       "                   warm_start=False)"
      ]
     },
     "execution_count": 17,
     "metadata": {},
     "output_type": "execute_result"
    }
   ],
   "source": [
    "logr = LogisticRegression(n_jobs=n_jobs, C=1000,random_state=42,solver='lbfgs',penalty='l2',multi_class='multinomial')\n",
    "logr.fit(X_train, y_train)"
   ]
  },
  {
   "cell_type": "code",
   "execution_count": 18,
   "metadata": {},
   "outputs": [],
   "source": [
    "with open(Config.logr,'wb') as file:\n",
    "    pickle.dump(logr,file)"
   ]
  },
  {
   "cell_type": "markdown",
   "metadata": {},
   "source": [
    "## Model Evaluation"
   ]
  },
  {
   "cell_type": "markdown",
   "metadata": {},
   "source": [
    "We can now consider the problem of model eavaluation. Let's consider the Accuracy, the Precision and the Recall of the trained model on the cross-validation set"
   ]
  },
  {
   "cell_type": "code",
   "execution_count": 19,
   "metadata": {},
   "outputs": [
    {
     "name": "stdout",
     "output_type": "stream",
     "text": [
      "Accuracy: 69.38038343984441\n",
      "Precision: 69.43035687955678\n",
      "Recall: 69.38038343984441\n"
     ]
    }
   ],
   "source": [
    "y_pred = logr.predict(X_test)\n",
    "acc_cv_1=accuracy_score(y_test,y_pred)*100\n",
    "prec_cv_1=precision_score(y_test,y_pred,average='weighted')*100\n",
    "rec_cv_1=recall_score(y_test,y_pred ,average='weighted')*100\n",
    "\n",
    "print(\"Accuracy: {}\".format(acc_cv_1))\n",
    "print(\"Precision: {}\".format(prec_cv_1))\n",
    "print(\"Recall: {}\".format(rec_cv_1))"
   ]
  },
  {
   "cell_type": "markdown",
   "metadata": {},
   "source": [
    "A precision of 70% is definetly not bad, but also not exceedingly good. Given the type of problem that we are trying to solve though, we can probably conclude that this type of evaluation might be too naive. The classification of scientific articles, especially when considering such a larg number of classes, admits a certain degree of ambiuity. For example, a paper that talks about topological effects in p-wave superconductors, can be considered as talking about superconductivity, but also, alternatively, about strongly interacting systems. The category which best describe the paper is therefore, most of time, a matter of tastes of the author. We can therefore try to explore different ways to evaluate the model, which migth perform better than we think.\n",
    "\n",
    "A first attempt  in this direction would be to consider if the algorithm can correctly pick up the general subject of the article. To understand the piece of code below we should consider that given a certain class, arXiv separates with a dot the general subject of from the specific one. For example \"math.GR\" is the category for Group Theory, which is a math subject; \"astro-ph.CO\" is about Cosmology, which is an astro-phisics subject and so on. This type of approach could be still refined as some classes do not follow this pattern; for example quant-ph is the class for Quantum Physics, which arXiv keeps separated from the classes physics.* , but let's not consider this for the moment, as it might be good enough to keep things simple."
   ]
  },
  {
   "cell_type": "code",
   "execution_count": 20,
   "metadata": {},
   "outputs": [
    {
     "name": "stdout",
     "output_type": "stream",
     "text": [
      "Accuracy: 0.8744095582106141\n",
      "Precision: 0.8741224476888958\n",
      "Recall: 0.8744095582106141\n"
     ]
    }
   ],
   "source": [
    "#Remove whatever comes after the dot, if any, in the classes \n",
    "y_test_strip=[x[:x.rfind('.')] if x.rfind('.')!=-1 else x for x in y_test]\n",
    "y_pred=logr.predict(X_test)\n",
    "y_pred_strip=[x[:x.rfind('.')] if x.rfind('.')!=-1 else x for x in y_pred]\n",
    "print(\"Accuracy: {}\".format(accuracy_score(y_true=y_test_strip,y_pred=y_pred_strip)))\n",
    "print(\"Precision: {}\".format(precision_score(y_true=y_test_strip,y_pred=y_pred_strip,average='weighted')))\n",
    "print(\"Recall: {}\".format(recall_score(y_true=y_test_strip,y_pred=y_pred_strip,average='weighted')))"
   ]
  },
  {
   "cell_type": "markdown",
   "metadata": {},
   "source": [
    "As can be seen the Accuracy of the model made a huge jump. This shows that our model is getting most of the articles subjects correctly and that probably the real accuracy of the model is higher than what we thought. In order to get a better estimate of how good is our model it is probably good to take a step back and to consider what problem that we are trying to solve. We want an application that would return the three best classes that classify a given article, as arXiv allow the author to specify up to three classes for a paper. We can therefore take this into account and consider the classification succesful whenever the training label is one of the best three predicted classes "
   ]
  },
  {
   "cell_type": "code",
   "execution_count": 21,
   "metadata": {},
   "outputs": [],
   "source": [
    "def predict_class(X,model): \n",
    "    probs=model.predict_proba(X)\n",
    "    for prob in probs: \n",
    "        pos=np.argsort(-prob)\n",
    "        yield model.classes_[pos[:3]]\n",
    "\n",
    "def best_of_3(y_pred,y):\n",
    "    y_best_3=[]\n",
    "    for i,clss in enumerate(y_pred):\n",
    "        if y[i] in clss :\n",
    "            y_best_3.append(y[i])\n",
    "        else:\n",
    "            y_best_3.append(clss[0])\n",
    "    return y_best_3"
   ]
  },
  {
   "cell_type": "code",
   "execution_count": 22,
   "metadata": {},
   "outputs": [],
   "source": [
    "y_pred_3=predict_class(X_test,logr)\n",
    "y_pred_best3=best_of_3(y_pred_3,y_test)"
   ]
  },
  {
   "cell_type": "code",
   "execution_count": 23,
   "metadata": {},
   "outputs": [
    {
     "name": "stdout",
     "output_type": "stream",
     "text": [
      "Accuracy: 0.9103454663332408\n",
      "Precision: 0.9114968701148863\n",
      "Recall: 0.9103454663332408\n"
     ]
    }
   ],
   "source": [
    "print(\"Accuracy: {}\".format(accuracy_score(y_true=y_test,y_pred=y_pred_best3)))\n",
    "print(\"Precision: {}\".format(precision_score(y_true=y_test,y_pred=y_pred_best3,average='weighted')))\n",
    "print(\"Recall: {}\".format(recall_score(y_true=y_test,y_pred=y_pred_best3,average='weighted')))"
   ]
  },
  {
   "cell_type": "markdown",
   "metadata": {},
   "source": [
    "These values are really encouraging and suggest that an hypotetical user of the application would be most likely able to get useful suggestions out of the three classes provided by it."
   ]
  }
 ],
 "metadata": {
  "kernelspec": {
   "display_name": "Python 3",
   "language": "python",
   "name": "python3"
  },
  "language_info": {
   "codemirror_mode": {
    "name": "ipython",
    "version": 3
   },
   "file_extension": ".py",
   "mimetype": "text/x-python",
   "name": "python",
   "nbconvert_exporter": "python",
   "pygments_lexer": "ipython3",
   "version": "3.7.1"
  }
 },
 "nbformat": 4,
 "nbformat_minor": 2
}
